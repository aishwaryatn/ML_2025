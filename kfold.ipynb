{
  "nbformat": 4,
  "nbformat_minor": 0,
  "metadata": {
    "colab": {
      "provenance": []
    },
    "kernelspec": {
      "name": "python3",
      "display_name": "Python 3"
    },
    "language_info": {
      "name": "python"
    }
  },
  "cells": [
    {
      "cell_type": "code",
      "source": [
        "import os\n",
        "print(os.listdir('/content/'))\n"
      ],
      "metadata": {
        "colab": {
          "base_uri": "https://localhost:8080/"
        },
        "id": "39eIIBuZT3cd",
        "outputId": "eddaa8e0-03b8-4f20-db9a-970166ebcf8e"
      },
      "execution_count": 9,
      "outputs": [
        {
          "output_type": "stream",
          "name": "stdout",
          "text": [
            "['.config', '.ipynb_checkpoints', 'movies_dataset.csv', 'sample_data']\n"
          ]
        }
      ]
    },
    {
      "cell_type": "code",
      "source": [
        "import pandas as pd\n",
        "\n",
        "df = pd.read_csv('/content/movies_dataset.csv')\n",
        "print(df.head())\n"
      ],
      "metadata": {
        "colab": {
          "base_uri": "https://localhost:8080/"
        },
        "id": "EBRGKgpNT6b0",
        "outputId": "b2fa7e76-c7ed-4391-eaf0-77fcdefc174a"
      },
      "execution_count": 11,
      "outputs": [
        {
          "output_type": "stream",
          "name": "stdout",
          "text": [
            "   MovieID                         Title        Genre  ReleaseYear  \\\n",
            "0        1          Might toward capital       Comedy         2003   \n",
            "1        2         He however experience       Comedy         1988   \n",
            "2        3  Star responsibility politics       Comedy         1971   \n",
            "3        4                  Exactly live       Comedy         1998   \n",
            "4        5      Focus improve especially  Documentary         2021   \n",
            "\n",
            "  ReleaseDate Country   BudgetUSD  US_BoxOfficeUSD  Global_BoxOfficeUSD  \\\n",
            "0  28-09-2003   China  6577427.79       6613685.82          15472035.66   \n",
            "1  14-02-1988     USA  1883810.10       1930949.15           3637731.12   \n",
            "2  02-11-1971     USA  2468079.29       4186694.69           7165111.24   \n",
            "3  06-08-1998     USA  1447311.46       2023683.92           4373820.26   \n",
            "4  17-12-2021   India   900915.86       2129629.10           3113017.38   \n",
            "\n",
            "   Opening_Day_SalesUSD  One_Week_SalesUSD  IMDbRating  RottenTomatoesScore  \\\n",
            "0            1778530.85         3034053.32         6.2                 58.0   \n",
            "1             247115.74          831828.84         5.2                 44.0   \n",
            "2             878453.95         2171405.93         5.5                 55.0   \n",
            "3             570657.72          898886.01         7.3                 87.0   \n",
            "4             361189.37          861775.91         6.1                 67.0   \n",
            "\n",
            "   NumVotesIMDb  NumVotesRT         Director           LeadActor  \n",
            "0        7865.0     10596.0   Kristina Moore     Brian Mccormick  \n",
            "1        1708.0       220.0  Benjamin Hudson         Ashley Pena  \n",
            "2        4678.0      7805.0      Kayla Young     Alexander Haley  \n",
            "3        2467.0      1751.0     Michael Ross     Patrick Barnett  \n",
            "4        5555.0       697.0   Faith Franklin  Duane Fletcher DDS  \n"
          ]
        }
      ]
    },
    {
      "cell_type": "code",
      "source": [
        "import numpy as np\n",
        "from sklearn.model_selection import StratifiedKFold\n",
        "from sklearn.linear_model import LogisticRegression\n",
        "from sklearn.impute import SimpleImputer  # Corrected import\n",
        "from sklearn.metrics import accuracy_score\n",
        "import pandas as pd\n",
        "\n",
        "# Create binary target variable based on revenue median\n",
        "# Assuming 'Global_BoxOfficeUSD' is the intended revenue column\n",
        "df['revenue_class'] = np.where(df['Global_BoxOfficeUSD'] > df['Global_BoxOfficeUSD'].median(), 1, 0)\n",
        "\n",
        "# Select features for classification\n",
        "# Updated feature names to match the DataFrame columns\n",
        "features = ['BudgetUSD', 'IMDbRating', 'RottenTomatoesScore', 'NumVotesIMDb', 'NumVotesRT']\n",
        "\n",
        "# Prepare features and handle missing values\n",
        "X = df[features].copy() # Use .copy() to avoid SettingWithCopyWarning\n",
        "imputer = SimpleImputer(strategy='mean')\n",
        "X_imputed = imputer.fit_transform(X)\n",
        "\n",
        "# Target variable\n",
        "y = df['revenue_class'].values\n",
        "\n",
        "# Stratified 5-fold cross-validation setup\n",
        "kf = StratifiedKFold(n_splits=5, shuffle=True, random_state=42)\n",
        "\n",
        "model = LogisticRegression(max_iter=200)\n",
        "accuracies = []\n",
        "\n",
        "# Train and evaluate using k-fold\n",
        "for fold, (train_idx, test_idx) in enumerate(kf.split(X_imputed, y), 1):\n",
        "    X_train, X_test = X_imputed[train_idx], X_imputed[test_idx] # Corrected line\n",
        "    y_train, y_test = y[train_idx], y[test_idx]\n",
        "\n",
        "    model.fit(X_train, y_train)\n",
        "    y_pred = model.predict(X_test)\n",
        "    acc = accuracy_score(y_test, y_pred)\n",
        "    accuracies.append(acc)\n",
        "\n",
        "    print(f\"Fold {fold} Accuracy: {acc:.4f}\")\n",
        "\n",
        "print(f\"\\nAverage Accuracy: {np.mean(accuracies):.4f}\")"
      ],
      "metadata": {
        "colab": {
          "base_uri": "https://localhost:8080/"
        },
        "id": "LlXnUviNUdOl",
        "outputId": "3d35df85-df41-4957-d6af-42f570bc9883"
      },
      "execution_count": 16,
      "outputs": [
        {
          "output_type": "stream",
          "name": "stdout",
          "text": [
            "Fold 1 Accuracy: 0.8741\n",
            "Fold 2 Accuracy: 0.8731\n",
            "Fold 3 Accuracy: 0.8677\n",
            "Fold 4 Accuracy: 0.8750\n",
            "Fold 5 Accuracy: 0.8673\n",
            "\n",
            "Average Accuracy: 0.8714\n"
          ]
        }
      ]
    }
  ]
}